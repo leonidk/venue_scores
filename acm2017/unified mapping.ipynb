{
 "cells": [
  {
   "cell_type": "code",
   "execution_count": null,
   "metadata": {},
   "outputs": [],
   "source": [
    "import pandas as pd\n",
    "import numpy as np\n",
    "from fuzzywuzzy import process"
   ]
  },
  {
   "cell_type": "code",
   "execution_count": null,
   "metadata": {},
   "outputs": [],
   "source": [
    "name_map = pd.read_csv('map_from_names.csv')\n",
    "df_csr = pd.read_csv('../ranks.csv')\n",
    "true_names = list(df_csr.uni)\n",
    "for i, row in name_map.iterrows():\n",
    "    #new_name = process.extractBests(df_bp.at[i,'school'],true_names,limit=1)[0][0]\n",
    "    #df_bp.at[i,'fixed'] = new_name\n",
    "    name_map.at[i,'University'] = name_map.at[i,'University'][1:]"
   ]
  },
  {
   "cell_type": "code",
   "execution_count": null,
   "metadata": {},
   "outputs": [],
   "source": [
    "for i, row in name_map.iterrows():\n",
    "    #new_name = process.extractBests(df_bp.at[i,'school'],true_names,limit=1)[0][0]\n",
    "    #df_bp.at[i,'fixed'] = new_name\n",
    "    print(name_map.at[i,'school'] in true_names,name_map.at[i,'University'])"
   ]
  },
  {
   "cell_type": "code",
   "execution_count": null,
   "metadata": {},
   "outputs": [],
   "source": [
    "df_srd = pd.read_csv('scholar_ranking_data.csv',delimiter=';')\n",
    "df_srd.columns"
   ]
  },
  {
   "cell_type": "code",
   "execution_count": null,
   "metadata": {},
   "outputs": [],
   "source": [
    "df_merged = pd.merge(df_srd,name_map,left_on=' ID',right_on='ID')\n",
    "df_merged.to_csv('../uni_rank_mergedscholar.csv')"
   ]
  },
  {
   "cell_type": "code",
   "execution_count": null,
   "metadata": {},
   "outputs": [],
   "source": []
  }
 ],
 "metadata": {
  "kernelspec": {
   "display_name": "Python 3",
   "language": "python",
   "name": "python3"
  },
  "language_info": {
   "codemirror_mode": {
    "name": "ipython",
    "version": 3
   },
   "file_extension": ".py",
   "mimetype": "text/x-python",
   "name": "python",
   "nbconvert_exporter": "python",
   "pygments_lexer": "ipython3",
   "version": "3.6.7"
  }
 },
 "nbformat": 4,
 "nbformat_minor": 2
}
