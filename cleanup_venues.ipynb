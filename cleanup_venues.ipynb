{
 "cells": [
  {
   "cell_type": "code",
   "execution_count": null,
   "metadata": {},
   "outputs": [],
   "source": [
    "import os\n",
    "import sys\n",
    "import fnmatch\n",
    "import numpy as np\n",
    "import pandas as pd\n",
    "import json\n",
    "import gzip\n",
    "import pickle\n",
    "import csv\n",
    "import scipy.sparse\n",
    "Xauth = None\n",
    "from collections import defaultdict"
   ]
  },
  {
   "cell_type": "code",
   "execution_count": null,
   "metadata": {},
   "outputs": [],
   "source": [
    "papers = pickle.load(gzip.open('parsed_files.pkl.gz','rb'))"
   ]
  },
  {
   "cell_type": "code",
   "execution_count": null,
   "metadata": {},
   "outputs": [],
   "source": [
    "tag,title, authors, venue, pages, startPage,year,volume,number,url,publtype,eb_toofew,eb_skip = papers[0]\n",
    "print(papers[0],len(papers))"
   ]
  },
  {
   "cell_type": "code",
   "execution_count": null,
   "metadata": {},
   "outputs": [],
   "source": [
    "informal_venues = {}\n",
    "total_venues = {}\n",
    "pubtypes = {}\n",
    "pagecounts = {}\n",
    "\n",
    "for paper in papers:\n",
    "    tag,title, authors, venue, pages, startPage,year,volume,number,url,publtype,eb_toofew,eb_skip = paper\n",
    "    total_venues[venue] = 1 + total_venues.get(venue,0)\n",
    "    pagecounts[pages] = 1 + pagecounts.get(pages,0)\n",
    "    pubtypes[publtype] = 1\n",
    "    if publtype is not None:\n",
    "        informal_venues[venue] = 1 + informal_venues.get(venue,0)\n",
    "\n",
    "frac_informal_venues = {k:v/total_venues[k] for k,v in informal_venues.items()}\n",
    "skip_venues = {k:v for k,v in frac_informal_venues.items() if v > 0.5 }"
   ]
  },
  {
   "cell_type": "code",
   "execution_count": null,
   "metadata": {},
   "outputs": [],
   "source": [
    "#sorted([(v,k,frac_informal_venues[k]) for k,v in informal_venues.items()],reverse=True)"
   ]
  },
  {
   "cell_type": "code",
   "execution_count": null,
   "metadata": {},
   "outputs": [],
   "source": [
    "#pubtypes"
   ]
  },
  {
   "cell_type": "code",
   "execution_count": null,
   "metadata": {},
   "outputs": [],
   "source": [
    "#skip_venues"
   ]
  },
  {
   "cell_type": "code",
   "execution_count": null,
   "metadata": {},
   "outputs": [],
   "source": [
    "faculty_affil = pd.read_csv('faculty-affiliations.csv')\n",
    "ranks = pd.read_csv('other_ranks/ranks.csv')\n",
    "def csv2dict_str_str(fname):\n",
    "    with open(fname, mode='r') as infile:\n",
    "        rdr = csv.reader(infile)\n",
    "        d = {rows[0].strip(): rows[1].strip() for rows in rdr}\n",
    "    return d\n",
    "aliasdict = csv2dict_str_str('dblp-aliases.csv')"
   ]
  },
  {
   "cell_type": "code",
   "execution_count": null,
   "metadata": {},
   "outputs": [],
   "source": [
    "eb_toofew"
   ]
  },
  {
   "cell_type": "code",
   "execution_count": null,
   "metadata": {},
   "outputs": [],
   "source": [
    "useful_papers = []\n",
    "all_venues = set()\n",
    "all_authors = set()\n",
    "for paper in papers:\n",
    "    tag,title, authors, venue, pages, startPage,year,volume,number,url,publtype,eb_toofew,eb_skip = paper\n",
    "    #if 'Jonathan T. Moon' in authors:\n",
    "    #    print(paper)\n",
    "    if publtype is None and venue not in skip_venues and (pages != 0 or (not eb_toofew)) and tag != 'incollection' and not eb_skip \\\n",
    "                        and year >= 1970 and year < 2020 and (pages==-1 or pages >=6 or (not eb_toofew)) and (pages <= 100 or (not eb_toofew)):\n",
    "        authors = [aliasdict.get(a,a) for a in authors]\n",
    "        #if 'Jonathan T. Moon' in authors:\n",
    "        #    print('PASSED',paper)\n",
    "        for a in authors:\n",
    "            all_authors.add(a)\n",
    "        all_venues.add(venue)\n",
    "        useful_papers.append((tag,title, authors, venue, pages, startPage,year,volume,number,url,publtype,eb_toofew,eb_skip))"
   ]
  },
  {
   "cell_type": "code",
   "execution_count": null,
   "metadata": {},
   "outputs": [],
   "source": [
    "len(all_venues),len(all_authors),len(useful_papers)"
   ]
  },
  {
   "cell_type": "code",
   "execution_count": null,
   "metadata": {},
   "outputs": [],
   "source": [
    "all_venues = sorted(list(all_venues))\n",
    "all_authors = sorted(list(all_authors))\n",
    "useful_papers = sorted(useful_papers,key = lambda paper: (paper[6],paper[3])) #sort by year,conf"
   ]
  },
  {
   "cell_type": "code",
   "execution_count": null,
   "metadata": {},
   "outputs": [],
   "source": [
    "conf_idx = {v:i for i,v in enumerate(all_venues)}\n",
    "name_idx = {v:i for i,v in enumerate(all_authors)}"
   ]
  },
  {
   "cell_type": "code",
   "execution_count": null,
   "metadata": {},
   "outputs": [],
   "source": [
    "with gzip.open('useful_venue_list.pkl.gz','wb') as fp:\n",
    "    pickle.dump(all_venues,fp,-1)\n",
    "with gzip.open('useful_authors_list.pkl.gz','wb') as fp:\n",
    "    pickle.dump(all_authors,fp,-1)\n",
    "with gzip.open('useful_papers.pkl.gz','wb') as fp:\n",
    "    pickle.dump(useful_papers,fp,-1)"
   ]
  },
  {
   "cell_type": "code",
   "execution_count": null,
   "metadata": {},
   "outputs": [],
   "source": []
  },
  {
   "cell_type": "markdown",
   "metadata": {},
   "source": []
  }
 ],
 "metadata": {
  "kernelspec": {
   "display_name": "Python 3",
   "language": "python",
   "name": "python3"
  },
  "language_info": {
   "codemirror_mode": {
    "name": "ipython",
    "version": 3
   },
   "file_extension": ".py",
   "mimetype": "text/x-python",
   "name": "python",
   "nbconvert_exporter": "python",
   "pygments_lexer": "ipython3",
   "version": "3.6.8"
  }
 },
 "nbformat": 4,
 "nbformat_minor": 2
}
