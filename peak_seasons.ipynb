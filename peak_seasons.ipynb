{
 "cells": [
  {
   "cell_type": "code",
   "execution_count": null,
   "metadata": {},
   "outputs": [],
   "source": [
    "import os\n",
    "import sys\n",
    "import fnmatch\n",
    "import numpy as np\n",
    "import pandas as pd\n",
    "import json\n",
    "import gzip\n",
    "import pickle\n",
    "import csv\n",
    "import scipy.sparse\n",
    "Xauth = None\n",
    "from collections import defaultdict\n",
    "import matplotlib.pyplot as plt"
   ]
  },
  {
   "cell_type": "code",
   "execution_count": null,
   "metadata": {},
   "outputs": [],
   "source": [
    "# setup the update to work despite the broken scipy documentation\n",
    "try:\n",
    "    a = scipy.sparse.dok_matrix((10,10))\n",
    "    a.update({(0,0):1.0})\n",
    "    scipy.sparse.dok_matrix.my_update = scipy.sparse.dok_matrix.update\n",
    "except:\n",
    "    a = scipy.sparse.dok_matrix((10,10))\n",
    "    a._update({(0,0):1.0})\n",
    "    scipy.sparse.dok_matrix.my_update = scipy.sparse.dok_matrix._update"
   ]
  },
  {
   "cell_type": "code",
   "execution_count": null,
   "metadata": {},
   "outputs": [],
   "source": [
    "with gzip.open('useful_venue_list.pkl.gz','rb') as fp:\n",
    "    all_venues = pickle.load(fp)\n",
    "with gzip.open('useful_authors_list.pkl.gz','rb') as fp:\n",
    "    all_authors = pickle.load(fp)\n",
    "with gzip.open('useful_papers.pkl.gz','rb') as fp:\n",
    "    all_papers = pickle.load(fp)\n"
   ]
  },
  {
   "cell_type": "code",
   "execution_count": null,
   "metadata": {},
   "outputs": [],
   "source": [
    "min_year = all_papers[0][6]\n",
    "max_year = all_papers[-1][6]\n",
    "span_years = max_year - min_year + 1\n",
    "print(min_year,max_year,span_years)\n",
    "conf_idx = {v:i for i,v in enumerate(all_venues)}\n",
    "name_idx = {v:i for i,v in enumerate(all_authors)}\n",
    "n_confs = len(all_venues)\n",
    "n_auths = len(all_authors)\n",
    "n_papers = len(all_papers)\n",
    "print(n_confs,n_auths,n_papers)"
   ]
  },
  {
   "cell_type": "code",
   "execution_count": null,
   "metadata": {},
   "outputs": [],
   "source": [
    "total_scores = np.load('total.npy')"
   ]
  },
  {
   "cell_type": "code",
   "execution_count": null,
   "metadata": {},
   "outputs": [],
   "source": [
    "clf =  np.load('clf_gold.pkl.npy')\n",
    "years_per_conf = clf.shape[0]//n_confs\n",
    "YEAR_BLOCKS = span_years//years_per_conf"
   ]
  },
  {
   "cell_type": "code",
   "execution_count": null,
   "metadata": {},
   "outputs": [],
   "source": [
    "valid_ns = set()\n",
    "for paper in all_papers:\n",
    "    tag,title, authors, venue, pages, startPage,year,volume,number,url,publtype,eb_toofew,eb_skip = paper\n",
    "    n = len(authors)\n",
    "    valid_ns.add(n)\n",
    "\n",
    "per_author_val = {}\n",
    "for n in valid_ns:\n",
    "    author_scores = 1/(np.arange(n)+1)\n",
    "    per_author_val[n] = author_scores/author_scores.sum()"
   ]
  },
  {
   "cell_type": "code",
   "execution_count": null,
   "metadata": {},
   "outputs": [],
   "source": [
    "faculty_affil = pd.read_csv('faculty-affiliations.csv')\n",
    "cmu_uni = pd.read_csv('other_ranks/cmu_faculty.csv')\n",
    "cmu_uni = cmu_uni.fillna('Other')\n",
    "cmu_uni = cmu_uni[(cmu_uni.dept == 'RI')]\n",
    "#uni_names = list(faculty_affil[faculty_affil.affiliation == 'Stanford University'].name) \n",
    "uni_names = set(list(cmu_uni.name))\n",
    "uni_names = ['Richard Newcombe']"
   ]
  },
  {
   "cell_type": "code",
   "execution_count": null,
   "metadata": {},
   "outputs": [],
   "source": [
    "from collections import Counter,defaultdict\n",
    "def di():\n",
    "    return defaultdict(float)\n",
    "author_by_year = {}\n",
    "for paper in all_papers:\n",
    "    tag,title, authors, venue, pages, startPage,year,volume,number,url,publtype,eb_toofew,eb_skip = paper\n",
    "    n = len(authors)\n",
    "    if sum([_ in uni_names for _ in authors]) == 0:\n",
    "        continue\n",
    "    for a,c in zip(authors,per_author_val[n]):\n",
    "        nv = author_by_year.get(a,np.zeros(years_per_conf))\n",
    "        nv[(year-min_year)//YEAR_BLOCKS] += c*clf[years_per_conf*conf_idx[venue] + (year-min_year)//YEAR_BLOCKS]\n",
    "        author_by_year[a] = nv"
   ]
  },
  {
   "cell_type": "code",
   "execution_count": null,
   "metadata": {},
   "outputs": [],
   "source": [
    "from scipy.ndimage.filters import gaussian_filter1d\n",
    "smoothed_auth={k:gaussian_filter1d(v,1.4,mode='nearest') for k,v in author_by_year.items()}\n"
   ]
  },
  {
   "cell_type": "code",
   "execution_count": null,
   "metadata": {},
   "outputs": [],
   "source": [
    "max_auth_per_year = sorted([(max(v),np.argmax(v)*YEAR_BLOCKS+min_year,k) for k,v in smoothed_auth.items()],reverse=True)\n"
   ]
  },
  {
   "cell_type": "code",
   "execution_count": null,
   "metadata": {},
   "outputs": [],
   "source": [
    "affil_set = set(faculty_affil.name)\n",
    "peeps = []\n",
    "for row in faculty_affil.itertuples():\n",
    "    i,name,affil = row\n",
    "    if name + ' 0001' in name_idx and name in name_idx:\n",
    "        peeps.append((total_scores[name_idx[name]],name,affil))\n",
    "sorted(peeps,reverse=True),total_scores[name_idx['Zhao Wang 0004']]"
   ]
  },
  {
   "cell_type": "code",
   "execution_count": null,
   "metadata": {},
   "outputs": [],
   "source": [
    "for i in range(min(len(max_auth_per_year),180)):\n",
    "    if max_auth_per_year[i][2] + ' 0001' in name_idx:\n",
    "        print('.',end='')\n",
    "    if max_auth_per_year[i][2] in faculty_affil:\n",
    "        print('woot',end='\\t')\n",
    "    print(max_auth_per_year[i])"
   ]
  },
  {
   "cell_type": "code",
   "execution_count": null,
   "metadata": {},
   "outputs": [],
   "source": [
    "#plt.plot(smoothed_auth['Sergey Levine'],label=\"levine\")\n",
    "#plt.plot(smoothed_auth['Pieter Abbeel'],label='Abbeel')"
   ]
  },
  {
   "cell_type": "code",
   "execution_count": null,
   "metadata": {},
   "outputs": [],
   "source": [
    "plt.figure(figsize=(20,8))\n",
    "import cycler\n",
    "import matplotlib as mpl\n",
    "mpl.rcParams.update({'font.size': 22})\n",
    "n = 20\n",
    "color = plt.cm.tab20(np.linspace(0, 1,n))\n",
    "mpl.rcParams['axes.prop_cycle'] = cycler.cycler('color', color)\n",
    "i = -1\n",
    "j= 0\n",
    "while j < n:\n",
    "    i+=1\n",
    "    name = max_auth_per_year[i][2]\n",
    "    if name + ' 0001' in name_idx:\n",
    "        continue#print('.',end='')\n",
    "    if name in list(uni_names):\n",
    "        continue\n",
    "    peak_year = max_auth_per_year[i][1]\n",
    "\n",
    "    plt.plot(np.arange(min_year,max_year,YEAR_BLOCKS),smoothed_auth[name],label='{:25s}({:d})'.format(name,peak_year),lw=6,alpha=0.9)\n",
    "    j+=1\n",
    "plt.legend(loc=3,fancybox=True, framealpha=0.8, borderpad=1,frameon=True,markerfirst=True,prop={'stretch':0,'size':15,'family': 'monospace','weight':500})\n",
    "plt.title('Value from being a {} co-author'.format(uni_names[0]),size=20)\n",
    "plt.tight_layout()\n",
    "plt.xlim(1995,2020)\n",
    "plt.ylim(bottom=0)\n",
    "plt.savefig('{}.png'.format(uni_names[0].split()[0].lower()),edgecolor='w',facecolor='w')\n"
   ]
  },
  {
   "cell_type": "code",
   "execution_count": null,
   "metadata": {},
   "outputs": [],
   "source": [
    "'Olivier Faugeras' in name_idx"
   ]
  },
  {
   "cell_type": "code",
   "execution_count": null,
   "metadata": {},
   "outputs": [],
   "source": []
  },
  {
   "cell_type": "code",
   "execution_count": null,
   "metadata": {},
   "outputs": [],
   "source": []
  },
  {
   "cell_type": "code",
   "execution_count": null,
   "metadata": {},
   "outputs": [],
   "source": []
  },
  {
   "cell_type": "code",
   "execution_count": null,
   "metadata": {},
   "outputs": [],
   "source": []
  },
  {
   "cell_type": "code",
   "execution_count": null,
   "metadata": {},
   "outputs": [],
   "source": []
  }
 ],
 "metadata": {
  "language_info": {
   "name": "python"
  }
 },
 "nbformat": 4,
 "nbformat_minor": 2
}
