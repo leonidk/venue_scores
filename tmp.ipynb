{
 "cells": [
  {
   "cell_type": "code",
   "execution_count": null,
   "metadata": {},
   "outputs": [],
   "source": [
    "from bs4 import BeautifulSoup\n",
    "with open('tmp2') as fp:\n",
    "    data = fp.read()\n",
    "soup = BeautifulSoup(data, 'html.parser')\n"
   ]
  },
  {
   "cell_type": "code",
   "execution_count": null,
   "metadata": {},
   "outputs": [],
   "source": [
    "names = []\n",
    "for a in soup.find_all('p'):\n",
    "    try:\n",
    "        txt = a.find_all('a')[-1].text\n",
    "        if len(txt) > 3:\n",
    "            names.append(txt)\n",
    "        else:\n",
    "            for ain in a.find_all('a'):\n",
    "                txt2 = ain.text.strip()\n",
    "                if len(txt2) > 4 and txt2[0] != '<':\n",
    "                    names.append(txt2)\n",
    "                #if len(ain.text > 9):\n",
    "                #    print(ain.text)\n",
    "            #print(a.find_all('a')[0].txt)\n",
    "    except:\n",
    "        print(a)"
   ]
  },
  {
   "cell_type": "code",
   "execution_count": null,
   "metadata": {},
   "outputs": [],
   "source": [
    "import pandas as pd\n",
    "df = pd.read_csv('faculty-affiliations.csv')"
   ]
  },
  {
   "cell_type": "code",
   "execution_count": null,
   "metadata": {},
   "outputs": [],
   "source": [
    "csr_names = list(df[df.affiliation == \"University of California - Los Angeles\"].name)"
   ]
  },
  {
   "cell_type": "code",
   "execution_count": null,
   "metadata": {},
   "outputs": [],
   "source": [
    "from fuzzywuzzy import fuzz,process\n",
    "for name in csr_names:\n",
    "    print(name,':',process.extractOne(name,names))"
   ]
  },
  {
   "cell_type": "code",
   "execution_count": null,
   "metadata": {},
   "outputs": [],
   "source": [
    "from fuzzywuzzy import fuzz,process\n",
    "for name in names:\n",
    "    print(name,':',process.extractOne(name,csr_names))"
   ]
  },
  {
   "cell_type": "code",
   "execution_count": null,
   "metadata": {},
   "outputs": [],
   "source": []
  }
 ],
 "metadata": {
  "kernelspec": {
   "display_name": "Python 3",
   "language": "python",
   "name": "python3"
  },
  "language_info": {
   "codemirror_mode": {
    "name": "ipython",
    "version": 3
   },
   "file_extension": ".py",
   "mimetype": "text/x-python",
   "name": "python",
   "nbconvert_exporter": "python",
   "pygments_lexer": "ipython3",
   "version": "3.6.7"
  }
 },
 "nbformat": 4,
 "nbformat_minor": 2
}
