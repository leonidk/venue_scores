{
 "cells": [
  {
   "cell_type": "code",
   "execution_count": null,
   "metadata": {},
   "outputs": [],
   "source": [
    "import csv\n",
    "import fnmatch\n",
    "import gzip\n",
    "import json\n",
    "import os\n",
    "import pickle\n",
    "import sys\n",
    "import zipfile\n",
    "\n",
    "import numpy as np\n",
    "import pandas as pd\n",
    "import scipy.sparse\n",
    "\n",
    "import xmltodict"
   ]
  },
  {
   "cell_type": "code",
   "execution_count": null,
   "metadata": {},
   "outputs": [],
   "source": [
    "faculty_affil = pd.read_csv(\"faculty-affiliations.csv\")\n",
    "\n",
    "\n",
    "def csv2dict_str_str(fname):\n",
    "    with open(fname, mode=\"r\") as infile:\n",
    "        rdr = csv.reader(infile)\n",
    "        d = {rows[0].strip(): rows[1].strip() for rows in rdr}\n",
    "    return d\n",
    "\n",
    "\n",
    "aliasdict = csv2dict_str_str(\"dblp-aliases.csv\")"
   ]
  },
  {
   "cell_type": "code",
   "execution_count": null,
   "metadata": {},
   "outputs": [],
   "source": [
    "csr_unis = faculty_affil.affiliation.unique()"
   ]
  },
  {
   "cell_type": "code",
   "execution_count": null,
   "metadata": {},
   "outputs": [],
   "source": [
    "r1 = pd.read_csv(\"../r1.csv\", header=None)"
   ]
  },
  {
   "cell_type": "code",
   "execution_count": null,
   "metadata": {},
   "outputs": [],
   "source": [
    "i = 0\n",
    "for row in r1.itertuples():\n",
    "    if not row[1] in csr_unis:\n",
    "        print(row[1])\n",
    "        i += 1\n",
    "print(i)\n",
    "r1 = list(r1[0])"
   ]
  },
  {
   "cell_type": "code",
   "execution_count": null,
   "metadata": {},
   "outputs": [],
   "source": [
    "r1_faculty_affil = {k: v for k, v in faculty_affil.iteritems()}"
   ]
  },
  {
   "cell_type": "code",
   "execution_count": null,
   "metadata": {},
   "outputs": [],
   "source": [
    "# get r1\n",
    "filter_set = [1 if row[2] in r1 else 0 for row in faculty_affil.itertuples()]\n",
    "fss = np.array(filter_set).astype(np.bool)\n",
    "r1_faculty_affil = faculty_affil[fss]\n",
    "\n",
    "# get alias\n",
    "r1_unique = sorted(\n",
    "    set([aliasdict.get(row[1], row[1]) for row in r1_faculty_affil.itertuples()])\n",
    ")\n",
    "len(r1_unique), r1_faculty_affil.shape\n",
    "r1_unique_dict = {k: 1 for k in r1_unique}\n",
    "affils_dict = {row[1]: row[2] for row in r1_faculty_affil.itertuples()}"
   ]
  },
  {
   "cell_type": "code",
   "execution_count": null,
   "metadata": {},
   "outputs": [],
   "source": [
    "unique_names = pickle.load(open(\"big_names.pkl\", \"rb\"))\n",
    "unique_confs = pickle.load(open(\"confs.pkl\", \"rb\"))\n",
    "conf_idx = pickle.load(open(\"conf_idx.pkl\", \"rb\"))\n",
    "name_idx = pickle.load(open(\"name_idx.pkl\", \"rb\"))\n",
    "papers = pd.read_hdf(\"papers.h5\", \"table\")"
   ]
  },
  {
   "cell_type": "code",
   "execution_count": null,
   "metadata": {},
   "outputs": [],
   "source": [
    "Xr1 = scipy.sparse.dok_matrix((len(r1), unique_confs.shape[0]))\n",
    "xdict = {}\n",
    "for row in papers.itertuples():\n",
    "    conf = row[2]\n",
    "    authors = row[3]\n",
    "    j = conf_idx[conf]\n",
    "    for a in authors:\n",
    "        name = aliasdict.get(a, a)\n",
    "        if name in affils_dict:\n",
    "            uni = affils_dict[name]\n",
    "            i = r1.index(uni)\n",
    "            xdict[(i, j)] = 1\n",
    "Xr1._update(xdict)"
   ]
  },
  {
   "cell_type": "code",
   "execution_count": null,
   "metadata": {},
   "outputs": [],
   "source": [
    "filtered_confs = Xr1.sum(0) > 20\n",
    "\n",
    "# remove arxiv\n",
    "filtered_confs[0, conf_idx[\"CoRR\"]] = False\n",
    "\n",
    "r1_confs = [conf for conf in unique_confs if filtered_confs[0, conf_idx[conf]]]\n",
    "len(r1_confs)\n",
    "r1_conf_idx = {v: i for i, v in enumerate(r1_confs)}\n",
    "r1_scores = Xr1[:, np.array(filtered_confs).reshape((-1))]\n",
    "r1_scores = np.array(r1_scores.sum(0)).reshape((-1))"
   ]
  },
  {
   "cell_type": "code",
   "execution_count": null,
   "metadata": {},
   "outputs": [],
   "source": [
    "Xpaper = scipy.sparse.dok_matrix((len(r1_unique), len(r1_confs)))\n",
    "xdict = {}\n",
    "for row in papers.itertuples():\n",
    "    conf = row[2]\n",
    "    authors = row[3]\n",
    "    if conf not in r1_conf_idx:\n",
    "        continue\n",
    "    j = r1_conf_idx[conf]\n",
    "    for a in authors:\n",
    "        name = aliasdict.get(a, a)\n",
    "        if name in affils_dict:\n",
    "            i = r1_unique.index(name)\n",
    "            xdict[(i, j)] = 1 + xdict.get((i, j), 0)\n",
    "Xpaper._update(xdict)"
   ]
  },
  {
   "cell_type": "code",
   "execution_count": null,
   "metadata": {},
   "outputs": [],
   "source": [
    "filtered_authors = np.squeeze(np.array(Xpaper.sum(1) > 15))\n",
    "Xpaper_da = Xpaper[filtered_authors, :]"
   ]
  },
  {
   "cell_type": "code",
   "execution_count": null,
   "metadata": {},
   "outputs": [],
   "source": [
    "Xpaper_da"
   ]
  },
  {
   "cell_type": "code",
   "execution_count": null,
   "metadata": {},
   "outputs": [],
   "source": [
    "from sklearn.decomposition import LatentDirichletAllocation"
   ]
  },
  {
   "cell_type": "code",
   "execution_count": null,
   "metadata": {},
   "outputs": [],
   "source": [
    "clf = LatentDirichletAllocation(50)"
   ]
  },
  {
   "cell_type": "code",
   "execution_count": null,
   "metadata": {},
   "outputs": [],
   "source": [
    "what = clf.fit_transform(Xpaper_da.T)\n",
    "what.shape"
   ]
  },
  {
   "cell_type": "code",
   "execution_count": null,
   "metadata": {},
   "outputs": [],
   "source": [
    "from sklearn.manifold import TSNE"
   ]
  },
  {
   "cell_type": "code",
   "execution_count": null,
   "metadata": {},
   "outputs": [],
   "source": [
    "embed = TSNE()\n",
    "ys = embed.fit_transform(what)"
   ]
  },
  {
   "cell_type": "code",
   "execution_count": null,
   "metadata": {},
   "outputs": [],
   "source": [
    "from sklearn.cluster import MiniBatchKMeans\n",
    "\n",
    "km = MiniBatchKMeans(26)\n",
    "km.fit(what)"
   ]
  },
  {
   "cell_type": "code",
   "execution_count": null,
   "metadata": {},
   "outputs": [],
   "source": [
    "import matplotlib.pyplot as plt\n",
    "\n",
    "plt.scatter(ys[:, 0], ys[:, 1], c=km.labels_ / 26, cmap=\"tab20c\")"
   ]
  },
  {
   "cell_type": "code",
   "execution_count": null,
   "metadata": {},
   "outputs": [],
   "source": [
    "for i in range(26):\n",
    "    tmp = [(r1_scores[i], i) for i, v in enumerate(km.labels_ == i) if v]\n",
    "    score_idx = sorted(tmp, reverse=True)\n",
    "    print(i)\n",
    "    for s, idx in score_idx[:10]:\n",
    "        print(\"\\t\", r1_confs[idx])\n",
    "    print()"
   ]
  },
  {
   "cell_type": "code",
   "execution_count": null,
   "metadata": {},
   "outputs": [],
   "source": [
    "pickle.dump(what, open(\"top_conf_embed.pkl\", \"wb\"))\n",
    "pickle.dump(filtered_confs, open(\"top_conf_ind.pkl\", \"wb\"))"
   ]
  },
  {
   "cell_type": "code",
   "execution_count": null,
   "metadata": {},
   "outputs": [],
   "source": [
    "pickle.dump(r1_scores, open(\"r1_scores.pkl\", \"wb\"))\n",
    "pickle.dump(r1_confs, open(\"r1_confs.pkl\", \"wb\"))"
   ]
  },
  {
   "cell_type": "code",
   "execution_count": null,
   "metadata": {},
   "outputs": [],
   "source": []
  }
 ],
 "metadata": {
  "kernelspec": {
   "display_name": "Python 3",
   "language": "python",
   "name": "python3"
  },
  "language_info": {
   "codemirror_mode": {
    "name": "ipython",
    "version": 3
   },
   "file_extension": ".py",
   "mimetype": "text/x-python",
   "name": "python",
   "nbconvert_exporter": "python",
   "pygments_lexer": "ipython3",
   "version": "3.6.7"
  }
 },
 "nbformat": 4,
 "nbformat_minor": 2
}
