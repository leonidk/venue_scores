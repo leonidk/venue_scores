{
 "cells": [
  {
   "cell_type": "code",
   "execution_count": null,
   "metadata": {},
   "outputs": [],
   "source": [
    "import os\n",
    "import sys\n",
    "import fnmatch\n",
    "import zipfile\n",
    "import xmltodict\n",
    "import numpy as np\n",
    "import pandas as pd\n",
    "import json\n",
    "import gzip\n",
    "import pickle\n",
    "import csv\n",
    "import scipy.sparse"
   ]
  },
  {
   "cell_type": "code",
   "execution_count": null,
   "metadata": {},
   "outputs": [],
   "source": [
    "faculty_affil = pd.read_csv('faculty-affiliations.csv')\n",
    "def csv2dict_str_str(fname):\n",
    "    with open(fname, mode='r') as infile:\n",
    "        rdr = csv.reader(infile)\n",
    "        d = {rows[0].strip(): rows[1].strip() for rows in rdr}\n",
    "    return d\n",
    "aliasdict = csv2dict_str_str('dblp-aliases.csv')"
   ]
  },
  {
   "cell_type": "code",
   "execution_count": null,
   "metadata": {},
   "outputs": [],
   "source": [
    "csr_unis = faculty_affil.affiliation.unique()"
   ]
  },
  {
   "cell_type": "code",
   "execution_count": null,
   "metadata": {},
   "outputs": [],
   "source": [
    "r1 = pd.read_csv('other_ranks/r1.csv',header=None)"
   ]
  },
  {
   "cell_type": "code",
   "execution_count": null,
   "metadata": {},
   "outputs": [],
   "source": [
    "i = 0\n",
    "for row in r1.itertuples():\n",
    "    if not row[1] in csr_unis:\n",
    "        print(row[1])\n",
    "        i +=1\n",
    "print(i)\n",
    "r1 = list(r1[0])"
   ]
  },
  {
   "cell_type": "code",
   "execution_count": null,
   "metadata": {},
   "outputs": [],
   "source": [
    "r1_faculty_affil = {k:v for k,v in faculty_affil.iteritems()}"
   ]
  },
  {
   "cell_type": "code",
   "execution_count": null,
   "metadata": {},
   "outputs": [],
   "source": [
    "# get r1\n",
    "filter_set = [1 if row[2] in r1 else 0 for row in faculty_affil.itertuples()]\n",
    "fss = np.array(filter_set).astype(np.bool)\n",
    "r1_faculty_affil = faculty_affil[fss]\n",
    "\n",
    "# get alias\n",
    "r1_unique = sorted(set([aliasdict.get(row[1],row[1]) for row in r1_faculty_affil.itertuples()]))\n",
    "len(r1_unique),r1_faculty_affil.shape\n",
    "r1_unique_dict = {k:1 for k in r1_unique}\n",
    "affils_dict = {row[1]:row[2] for row in r1_faculty_affil.itertuples()} "
   ]
  },
  {
   "cell_type": "code",
   "execution_count": null,
   "metadata": {},
   "outputs": [],
   "source": [
    "with gzip.open('useful_venue_list.pkl.gz','rb') as fp:\n",
    "    all_venues = pickle.load(fp)\n",
    "with gzip.open('useful_authors_list.pkl.gz','rb') as fp:\n",
    "    all_authors = pickle.load(fp)\n",
    "with gzip.open('useful_papers.pkl.gz','rb') as fp:\n",
    "    all_papers = pickle.load(fp)\n",
    "conf_idx = {v:i for i,v in enumerate(all_venues)}\n",
    "name_idx = {v:i for i,v in enumerate(all_authors)}\n",
    "n_confs = len(all_venues)\n",
    "n_auths = len(all_authors)\n",
    "#r1_confs = pickle.load(open('old_version/r1_confs.pkl','rb'))\n",
    "#r1_confs_dict = {_:1 for _ in r1_confs}"
   ]
  },
  {
   "cell_type": "code",
   "execution_count": null,
   "metadata": {},
   "outputs": [],
   "source": [
    "Xr1 = scipy.sparse.dok_matrix((len(r1),n_confs))\n",
    "xdict = {}\n",
    "for paper in all_papers:\n",
    "    tag,title, authors, conf, pages, startPage,year,volume,number,url,publtype,eb_toofew,eb_skip = paper\n",
    "    j = conf_idx[conf]\n",
    "    if year < 2000:\n",
    "        continue\n",
    "    for a in authors:\n",
    "        name = aliasdict.get(a,a)\n",
    "        if name in affils_dict:\n",
    "            uni = affils_dict[name]\n",
    "            i = r1.index(uni)\n",
    "            xdict[(i,j)] = 1\n",
    "Xr1._update(xdict)\n"
   ]
  },
  {
   "cell_type": "code",
   "execution_count": null,
   "metadata": {
    "scrolled": true
   },
   "outputs": [],
   "source": [
    "filtered_confs = (Xr1.sum(0) > 5)\n",
    "\n",
    "\n",
    "\n",
    "r1_confs = [conf for conf in all_venues if filtered_confs[0,conf_idx[conf]]]\n",
    "print(len(r1_confs))\n",
    "#print(r1_confs)\n",
    "r1_conf_idx = {v:i for i,v in enumerate(r1_confs)}\n",
    "r1_conf_idx_orig = [conf_idx[conf] for conf in all_venues if filtered_confs[0,conf_idx[conf]]]\n",
    "\n",
    "r1_scores = Xr1[:,np.array(filtered_confs).reshape((-1))]\n",
    "r1_scores = np.array(r1_scores.sum(0)).reshape((-1))\n"
   ]
  },
  {
   "cell_type": "code",
   "execution_count": null,
   "metadata": {},
   "outputs": [],
   "source": [
    "Xpaper = scipy.sparse.dok_matrix((len(r1_unique),len(r1_confs)))\n",
    "xdict = {}\n",
    "for paper in all_papers:\n",
    "    tag,title, authors, conf, pages, startPage,year,volume,number,url,publtype,eb_toofew,eb_skip = paper\n",
    "    if conf not in r1_conf_idx:\n",
    "        continue\n",
    "    if year < 2000:\n",
    "        continue\n",
    "    j = r1_conf_idx[conf]\n",
    "    for a in authors:\n",
    "        name = aliasdict.get(a,a)\n",
    "        if name in affils_dict:\n",
    "            i = r1_unique.index(name)\n",
    "            xdict[(i,j)] = 1 + xdict.get((i,j),0)\n",
    "Xpaper._update(xdict)"
   ]
  },
  {
   "cell_type": "code",
   "execution_count": null,
   "metadata": {},
   "outputs": [],
   "source": [
    "r1counts = np.squeeze(np.array(Xpaper.sum(0)))"
   ]
  },
  {
   "cell_type": "code",
   "execution_count": null,
   "metadata": {},
   "outputs": [],
   "source": [
    "#filtered_authors = np.squeeze(np.array(Xpaper.sum(1) > 15) & np.array(Xpaper.sum(1) < 500))\n",
    "#Xpaper_da = Xpaper[filtered_authors,:]\n",
    "Xpaper_da = Xpaper"
   ]
  },
  {
   "cell_type": "code",
   "execution_count": null,
   "metadata": {},
   "outputs": [],
   "source": [
    "Xpaper_da"
   ]
  },
  {
   "cell_type": "code",
   "execution_count": null,
   "metadata": {},
   "outputs": [],
   "source": [
    "from sklearn.decomposition import LatentDirichletAllocation"
   ]
  },
  {
   "cell_type": "code",
   "execution_count": null,
   "metadata": {},
   "outputs": [],
   "source": [
    "clf = LatentDirichletAllocation(50)"
   ]
  },
  {
   "cell_type": "code",
   "execution_count": null,
   "metadata": {},
   "outputs": [],
   "source": [
    "what = clf.fit_transform(Xpaper_da.T)\n",
    "what.shape"
   ]
  },
  {
   "cell_type": "code",
   "execution_count": null,
   "metadata": {},
   "outputs": [],
   "source": [
    "from sklearn.manifold import TSNE"
   ]
  },
  {
   "cell_type": "code",
   "execution_count": null,
   "metadata": {},
   "outputs": [],
   "source": [
    "embed = TSNE(metric='cosine')\n",
    "ys = embed.fit_transform(what)"
   ]
  },
  {
   "cell_type": "code",
   "execution_count": null,
   "metadata": {},
   "outputs": [],
   "source": [
    "from sklearn.cluster import MiniBatchKMeans\n",
    "km = MiniBatchKMeans(25,n_init=20)\n",
    "km.fit(what)"
   ]
  },
  {
   "cell_type": "code",
   "execution_count": null,
   "metadata": {},
   "outputs": [],
   "source": [
    "import matplotlib.pyplot as plt\n",
    "plt.figure(figsize=(10,10))\n",
    "plt.scatter(ys[:,0],ys[:,1],c=km.labels_/25,cmap='tab20c')\n",
    "plt.grid(True)"
   ]
  },
  {
   "cell_type": "code",
   "execution_count": null,
   "metadata": {},
   "outputs": [],
   "source": [
    "for i in range(25):\n",
    "    tmp = [(r1_scores[i],i) for i,v in enumerate(km.labels_ == i) if v ] \n",
    "    score_idx = sorted(tmp,reverse=True)\n",
    "    print(i)\n",
    "    for s,idx in score_idx[:10]:\n",
    "        print('\\t',r1_confs[idx])\n",
    "    print()"
   ]
  },
  {
   "cell_type": "code",
   "execution_count": null,
   "metadata": {},
   "outputs": [],
   "source": [
    "pickle.dump(what,open('top_conf_embed.pkl','wb'))\n",
    "pickle.dump(filtered_confs,open('top_conf_ind.pkl','wb'))"
   ]
  },
  {
   "cell_type": "code",
   "execution_count": null,
   "metadata": {},
   "outputs": [],
   "source": [
    "pickle.dump(r1_scores,open('r1_scores.pkl','wb'))\n",
    "pickle.dump(r1_confs,open('r1_confs.pkl','wb'))"
   ]
  },
  {
   "cell_type": "code",
   "execution_count": null,
   "metadata": {},
   "outputs": [],
   "source": []
  },
  {
   "cell_type": "code",
   "execution_count": null,
   "metadata": {},
   "outputs": [],
   "source": []
  }
 ],
 "metadata": {
  "kernelspec": {
   "display_name": "Python 3",
   "language": "python",
   "name": "python3"
  },
  "language_info": {
   "codemirror_mode": {
    "name": "ipython",
    "version": 3
   },
   "file_extension": ".py",
   "mimetype": "text/x-python",
   "name": "python",
   "nbconvert_exporter": "python",
   "pygments_lexer": "ipython3",
   "version": "3.6.8"
  }
 },
 "nbformat": 4,
 "nbformat_minor": 2
}
